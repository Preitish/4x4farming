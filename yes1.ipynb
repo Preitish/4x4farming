{
 "cells": [
  {
   "cell_type": "code",
   "execution_count": 18,
   "metadata": {},
   "outputs": [],
   "source": [
    "import rasterio\n",
    "from rasterio.transform import rowcol\n",
    "from pyproj import Proj, Transformer"
   ]
  },
  {
   "cell_type": "code",
   "execution_count": 23,
   "metadata": {},
   "outputs": [],
   "source": [
    "def get_raster_value_tif(lat, lon, raster_path):\n",
    "    \"\"\"\n",
    "    Fetches the raster value at the given latitude and longitude.\n",
    "\n",
    "    Parameters:\n",
    "    lat (float): Latitude coordinate\n",
    "    lon (float): Longitude coordinate\n",
    "    raster_path (str): File path to the raster (.tif) file\n",
    "\n",
    "    Returns:\n",
    "    float: Raster value at the given coordinate\n",
    "    \"\"\"\n",
    "    with rasterio.open(raster_path) as dataset:\n",
    "        # Get raster coordinate reference system (CRS)\n",
    "        raster_crs = dataset.crs\n",
    "    \n",
    "\n",
    "        transformer = Transformer.from_crs(\"EPSG:4326\", raster_crs, always_xy=True)\n",
    "        x, y = transformer.transform(lon, lat)\n",
    "\n",
    "        row, col = rowcol(dataset.transform, x, y)\n",
    "\n",
    "        value = dataset.read(1)[row, col]\n",
    "    \n",
    "    return value\n",
    "\n"
   ]
  },
  {
   "cell_type": "code",
   "execution_count": 24,
   "metadata": {},
   "outputs": [
    {
     "name": "stdout",
     "output_type": "stream",
     "text": [
      "76\n"
     ]
    }
   ],
   "source": [
    "raster_value = get_raster_value_tif(28.6139, 77.2090, \"/Users/preitish/agrihackathon/FilteredNDVI.tif\")\n",
    "print(raster_value)"
   ]
  },
  {
   "cell_type": "code",
   "execution_count": 27,
   "metadata": {},
   "outputs": [
    {
     "name": "stdout",
     "output_type": "stream",
     "text": [
      "GlobalNDVI: 123\n",
      "FilteredNDVI: 76\n",
      "LocalNDVI: 250\n",
      "surfacewaterlevelproducts: 20\n",
      "vegetationFraction: 250\n"
     ]
    }
   ],
   "source": [
    "import rasterio\n",
    "from rasterio.transform import rowcol\n",
    "from pyproj import Transformer, CRS\n",
    "import os\n",
    "\n",
    "def get_raster_values(lat, lon, raster_paths, raster_crs=\"EPSG:32643\"):\n",
    "    \"\"\"\n",
    "    Fetches raster values at the given latitude and longitude for multiple raster files.\n",
    "\n",
    "    Parameters:\n",
    "    lat (float): Latitude coordinate\n",
    "    lon (float): Longitude coordinate\n",
    "    raster_paths (list): List of file paths to raster (.tif or .asc) files\n",
    "    raster_crs (str): CRS of the raster files (default: \"EPSG:32643\")\n",
    "\n",
    "    Returns:\n",
    "    dict: Dictionary with filenames as keys and raster values as values\n",
    "    \"\"\"\n",
    "    results = {}\n",
    "\n",
    "    for raster_path in raster_paths:\n",
    "        try:\n",
    "            with rasterio.open(raster_path) as dataset:\n",
    "                # Use dataset's CRS if available; otherwise, use the given CRS\n",
    "                dataset_crs = dataset.crs if dataset.crs else CRS.from_string(raster_crs)\n",
    "\n",
    "                # Convert latitude and longitude to raster coordinates\n",
    "                transformer = Transformer.from_crs(\"EPSG:4326\", dataset_crs, always_xy=True)\n",
    "                x, y = transformer.transform(lon, lat)\n",
    "\n",
    "                # Get row/col indices\n",
    "                row, col = rowcol(dataset.transform, x, y)\n",
    "\n",
    "                # Read raster value at the specified location\n",
    "                value = dataset.read(1)[row, col]\n",
    "\n",
    "                # Extract filename without extension and store the value\n",
    "                file_name = os.path.splitext(os.path.basename(raster_path))[0]\n",
    "                results[file_name] = value\n",
    "\n",
    "        except Exception as e:\n",
    "            results[os.path.basename(raster_path)] = f\"Error: {str(e)}\"\n",
    "\n",
    "    return results\n",
    "\n",
    "# Example usage with multiple files\n",
    "raster_files = [\n",
    "    \"/Users/preitish/agrihackathon/GlobalNDVI.tif\",\n",
    "    \"/Users/preitish/agrihackathon/FilteredNDVI.tif\",\n",
    "    \"/Users/preitish/agrihackathon/LocalNDVI.tif\",\n",
    "    \"/Users/preitish/agrihackathon/surfacewaterlevelproducts.tif\",\n",
    "    \"/Users/preitish/agrihackathon/vegetationFraction.tif\"\n",
    "]\n",
    "\n",
    "raster_values = get_raster_values(28.6139, 77.2090, raster_files, \"EPSG:32643\")\n",
    "\n",
    "# Print the results\n",
    "for key, value in raster_values.items():\n",
    "    print(f\"{key}: {value}\")"
   ]
  },
  {
   "cell_type": "code",
   "execution_count": 32,
   "metadata": {},
   "outputs": [
    {
     "name": "stdout",
     "output_type": "stream",
     "text": [
      "kharif: 6124\n",
      "rabi: 130\n"
     ]
    }
   ],
   "source": [
    "import rasterio\n",
    "from rasterio.transform import rowcol\n",
    "from pyproj import Transformer, CRS\n",
    "import os\n",
    "\n",
    "def get_raster_values(lat, lon, raster_paths, raster_crs=\"EPSG:32643\"):\n",
    "    \"\"\"\n",
    "    Fetches raster values at the given latitude and longitude for multiple .asc raster files.\n",
    "\n",
    "    Parameters:\n",
    "    lat (float): Latitude coordinate\n",
    "    lon (float): Longitude coordinate\n",
    "    raster_paths (list): List of file paths to .asc raster files\n",
    "    raster_crs (str): CRS of the raster files (default: \"EPSG:32643\")\n",
    "\n",
    "    Returns:\n",
    "    dict: Dictionary with filenames as keys and raster values as values\n",
    "    \"\"\"\n",
    "    results = {}\n",
    "\n",
    "    for raster_path in raster_paths:\n",
    "        try:\n",
    "            with rasterio.open(raster_path) as dataset:\n",
    "                # If the dataset has a CRS, use it; otherwise, use the provided raster_crs\n",
    "                dataset_crs = dataset.crs if dataset.crs else CRS.from_string(raster_crs)\n",
    "\n",
    "                # Convert latitude and longitude to raster coordinates\n",
    "                transformer = Transformer.from_crs(\"EPSG:4326\", dataset_crs, always_xy=True)\n",
    "                x, y = transformer.transform(lon, lat)\n",
    "\n",
    "                # Get row/col indices\n",
    "                row, col = rowcol(dataset.transform, x, y)\n",
    "\n",
    "                # Read raster value at the specified location\n",
    "                value = dataset.read(1)[row, col]\n",
    "\n",
    "                # Extract filename without extension and store the value\n",
    "                file_name = os.path.splitext(os.path.basename(raster_path))[0]\n",
    "                results[file_name] = value\n",
    "\n",
    "        except Exception as e:\n",
    "            results[os.path.basename(raster_path)] = f\"Error: {str(e)}\"\n",
    "\n",
    "    return results\n",
    "\n",
    "# Example usage with multiple .asc files\n",
    "asc_files = [\n",
    "    \"/Users/preitish/agrihackathon/kharif.asc\",\n",
    "    \"/Users/preitish/agrihackathon/rabi.asc\"\n",
    "]\n",
    "\n",
    "raster_values = get_raster_values(14.523144351233627, 89.30036236779829, asc_files, \"EPSG:32643\")\n",
    "\n",
    "# Print the results\n",
    "for key, value in raster_values.items():\n",
    "    print(f\"{key}: {value}\")"
   ]
  },
  {
   "cell_type": "code",
   "execution_count": null,
   "metadata": {},
   "outputs": [],
   "source": []
  }
 ],
 "metadata": {
  "kernelspec": {
   "display_name": "agri",
   "language": "python",
   "name": "python3"
  },
  "language_info": {
   "codemirror_mode": {
    "name": "ipython",
    "version": 3
   },
   "file_extension": ".py",
   "mimetype": "text/x-python",
   "name": "python",
   "nbconvert_exporter": "python",
   "pygments_lexer": "ipython3",
   "version": "3.11.7"
  }
 },
 "nbformat": 4,
 "nbformat_minor": 2
}
